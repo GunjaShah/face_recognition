{
 "cells": [
  {
   "cell_type": "markdown",
   "metadata": {},
   "source": [
    "# These are the libraries we have used for Face Recognition"
   ]
  },
  {
   "cell_type": "code",
   "execution_count": 1,
   "metadata": {},
   "outputs": [],
   "source": [
    "import face_recognition\n",
    "import cv2\n",
    "import os\n",
    "import numpy as np "
   ]
  },
  {
   "cell_type": "markdown",
   "metadata": {},
   "source": [
    "# Now we are declaring 2 empty lists for storing our face encodings and names respectively "
   ]
  },
  {
   "cell_type": "code",
   "execution_count": 2,
   "metadata": {},
   "outputs": [],
   "source": [
    "# Load the known faces and their names\n",
    "known_face_encodings = []\n",
    "known_face_names = [] "
   ]
  },
  {
   "cell_type": "markdown",
   "metadata": {},
   "source": [
    "# This is the variable which stores the path to our database, which is our image folder"
   ]
  },
  {
   "cell_type": "code",
   "execution_count": 3,
   "metadata": {},
   "outputs": [],
   "source": [
    "# Load images and encode them\n",
    "image_path = r\"C:\\Users\\HP\\OneDrive\\Desktop\\Face Detection\\Database\"\n",
    "image_files = [f for f in os.listdir(image_path) if f.lower().endswith(('.jpg', '.png', '.jpeg'))]\n",
    "for image_file in image_files:\n",
    "    image = face_recognition.load_image_file(os.path.join(image_path, image_file))\n",
    "    encoding = face_recognition.face_encodings(image)[0]  # Assuming there's only one face per image\n",
    "    known_face_encodings.append(encoding)\n",
    "    name = os.path.splitext(image_file)[0]  # Use the filename as the person's name\n",
    "    known_face_names.append(name)\n",
    "\n",
    "# Initialize the Webcam\n",
    "video_capture = cv2.VideoCapture(0)\n",
    "\n",
    "# Check if the webcam is opened successfully\n",
    "if not video_capture.isOpened():\n",
    "    print(\"Failed to open webcam. Make sure it's connected and not being used by another application.\")\n",
    "    exit()\n",
    "\n",
    "while True:\n",
    "    ret, frame = video_capture.read()\n",
    "    if not ret:\n",
    "        print(\"Failed to grab frame\")\n",
    "        break\n",
    "\n",
    "    # Convert the image from BGR color (which OpenCV uses) to RGB color\n",
    "    rgb_frame = frame[:, :, ::-1]\n",
    "\n",
    "    # Find all the face locations in the current frame of video\n",
    "    face_locations = face_recognition.face_locations(rgb_frame)\n",
    "\n",
    "    # Loop through each face found in the frame\n",
    "    for face_location in face_locations:\n",
    "        top, right, bottom, left = face_location\n",
    "        # Resize the face image to a standard size (150x150 pixels)\n",
    "        face_image = cv2.resize(frame[top:bottom, left:right], (150, 150))\n",
    "        face_encoding = face_recognition.face_encodings(face_image)\n",
    "\n",
    "        # See if the face is a match for the known face(s)\n",
    "        if len(face_encoding) > 0:\n",
    "            matches = face_recognition.compare_faces(known_face_encodings, face_encoding[0])\n",
    "            name = \"Unknown\"\n",
    "\n",
    "            # If a match is found, use the name of that person\n",
    "            if True in matches:\n",
    "                first_match_index = matches.index(True)\n",
    "                name = known_face_names[first_match_index]\n",
    "\n",
    "            # Draw a box around the face\n",
    "            cv2.rectangle(frame, (left, top), (right, bottom), (0, 0, 255), 2)\n",
    "\n",
    "            # Draw a label with a name below the face\n",
    "            cv2.rectangle(frame, (left, bottom - 35), (right, bottom), (0, 0, 255), cv2.FILLED)\n",
    "            font = cv2.FONT_HERSHEY_DUPLEX\n",
    "            cv2.putText(frame, name, (left + 6, bottom - 6), font, 0.5, (255, 255, 255), 1)\n",
    "\n",
    "    # Display the resulting image\n",
    "    cv2.imshow('Video', frame)\n",
    "\n",
    "    # Hit 'q' on the keyboard to quit!\n",
    "    if cv2.waitKey(1) & 0xFF == ord('q'):\n",
    "        break\n",
    "\n",
    "# Release handle to the webcam\n",
    "video_capture.release()\n",
    "cv2.destroyAllWindows()"
   ]
  },
  {
   "cell_type": "markdown",
   "metadata": {},
   "source": []
  }
 ],
 "metadata": {
  "kernelspec": {
   "display_name": "base",
   "language": "python",
   "name": "python3"
  },
  "language_info": {
   "codemirror_mode": {
    "name": "ipython",
    "version": 3
   },
   "file_extension": ".py",
   "mimetype": "text/x-python",
   "name": "python",
   "nbconvert_exporter": "python",
   "pygments_lexer": "ipython3",
   "version": "3.9.19"
  }
 },
 "nbformat": 4,
 "nbformat_minor": 2
}
